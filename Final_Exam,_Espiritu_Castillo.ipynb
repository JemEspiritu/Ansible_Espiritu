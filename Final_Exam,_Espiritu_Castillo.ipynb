{
  "nbformat": 4,
  "nbformat_minor": 0,
  "metadata": {
    "colab": {
      "provenance": [],
      "mount_file_id": "1agKdnXXUEeDVcvzXWexb8RWcBhn4HGLq",
      "authorship_tag": "ABX9TyMVBwecdeW42d17T8bCMJTQ",
      "include_colab_link": true
    },
    "kernelspec": {
      "name": "python3",
      "display_name": "Python 3"
    },
    "language_info": {
      "name": "python"
    }
  },
  "cells": [
    {
      "cell_type": "markdown",
      "metadata": {
        "id": "view-in-github",
        "colab_type": "text"
      },
      "source": [
        "<a href=\"https://colab.research.google.com/github/JemEspiritu/Ansible_Espiritu/blob/main/Final_Exam%2C_Espiritu_Castillo.ipynb\" target=\"_parent\"><img src=\"https://colab.research.google.com/assets/colab-badge.svg\" alt=\"Open In Colab\"/></a>"
      ]
    },
    {
      "cell_type": "markdown",
      "metadata": {
        "id": "GTaBRNGHM7-G"
      },
      "source": [
        "Technological Institute of the Philippines | Quezon City - Computer Engineering\n",
        "--- | ---\n",
        "Course Code: | CPE 019\n",
        "Code Title: | Emerging Technologies in CpE 2\n",
        "2nd Semester | AY 2024-2025\n",
        "<hr> | <hr>\n",
        "<u>**ACTIVITY NO.** | **Final Examination**\n",
        "**Name** | John Edward Miles D. Espiritu / Mark Laurence Castillo\n",
        "**Section** | CPE32S1\n",
        "**Date Performed**: |05/17/2024\n",
        "**Date Submitted**: |05/19/2024\n",
        "**Instructor**: | Engr. Ryan Francisco\n",
        "\n",
        "<hr>"
      ]
    },
    {
      "cell_type": "code",
      "source": [
        "!pip install streamlit"
      ],
      "metadata": {
        "colab": {
          "base_uri": "https://localhost:8080/"
        },
        "id": "3xZJs51dJHYM",
        "outputId": "0eb3041a-6a96-46ee-dbb3-7ebf0ba5acd8"
      },
      "execution_count": 1,
      "outputs": [
        {
          "output_type": "stream",
          "name": "stdout",
          "text": [
            "Collecting streamlit\n",
            "  Downloading streamlit-1.34.0-py2.py3-none-any.whl (8.5 MB)\n",
            "\u001b[2K     \u001b[90m━━━━━━━━━━━━━━━━━━━━━━━━━━━━━━━━━━━━━━━━\u001b[0m \u001b[32m8.5/8.5 MB\u001b[0m \u001b[31m31.9 MB/s\u001b[0m eta \u001b[36m0:00:00\u001b[0m\n",
            "\u001b[?25hRequirement already satisfied: altair<6,>=4.0 in /usr/local/lib/python3.10/dist-packages (from streamlit) (4.2.2)\n",
            "Requirement already satisfied: blinker<2,>=1.0.0 in /usr/lib/python3/dist-packages (from streamlit) (1.4)\n",
            "Requirement already satisfied: cachetools<6,>=4.0 in /usr/local/lib/python3.10/dist-packages (from streamlit) (5.3.3)\n",
            "Requirement already satisfied: click<9,>=7.0 in /usr/local/lib/python3.10/dist-packages (from streamlit) (8.1.7)\n",
            "Requirement already satisfied: numpy<2,>=1.19.3 in /usr/local/lib/python3.10/dist-packages (from streamlit) (1.25.2)\n",
            "Requirement already satisfied: packaging<25,>=16.8 in /usr/local/lib/python3.10/dist-packages (from streamlit) (24.0)\n",
            "Requirement already satisfied: pandas<3,>=1.3.0 in /usr/local/lib/python3.10/dist-packages (from streamlit) (2.0.3)\n",
            "Requirement already satisfied: pillow<11,>=7.1.0 in /usr/local/lib/python3.10/dist-packages (from streamlit) (9.4.0)\n",
            "Requirement already satisfied: protobuf<5,>=3.20 in /usr/local/lib/python3.10/dist-packages (from streamlit) (3.20.3)\n",
            "Requirement already satisfied: pyarrow>=7.0 in /usr/local/lib/python3.10/dist-packages (from streamlit) (14.0.2)\n",
            "Requirement already satisfied: requests<3,>=2.27 in /usr/local/lib/python3.10/dist-packages (from streamlit) (2.31.0)\n",
            "Requirement already satisfied: rich<14,>=10.14.0 in /usr/local/lib/python3.10/dist-packages (from streamlit) (13.7.1)\n",
            "Requirement already satisfied: tenacity<9,>=8.1.0 in /usr/local/lib/python3.10/dist-packages (from streamlit) (8.3.0)\n",
            "Requirement already satisfied: toml<2,>=0.10.1 in /usr/local/lib/python3.10/dist-packages (from streamlit) (0.10.2)\n",
            "Requirement already satisfied: typing-extensions<5,>=4.3.0 in /usr/local/lib/python3.10/dist-packages (from streamlit) (4.11.0)\n",
            "Collecting gitpython!=3.1.19,<4,>=3.0.7 (from streamlit)\n",
            "  Downloading GitPython-3.1.43-py3-none-any.whl (207 kB)\n",
            "\u001b[2K     \u001b[90m━━━━━━━━━━━━━━━━━━━━━━━━━━━━━━━━━━━━━━━━\u001b[0m \u001b[32m207.3/207.3 kB\u001b[0m \u001b[31m16.8 MB/s\u001b[0m eta \u001b[36m0:00:00\u001b[0m\n",
            "\u001b[?25hCollecting pydeck<1,>=0.8.0b4 (from streamlit)\n",
            "  Downloading pydeck-0.9.1-py2.py3-none-any.whl (6.9 MB)\n",
            "\u001b[2K     \u001b[90m━━━━━━━━━━━━━━━━━━━━━━━━━━━━━━━━━━━━━━━━\u001b[0m \u001b[32m6.9/6.9 MB\u001b[0m \u001b[31m60.8 MB/s\u001b[0m eta \u001b[36m0:00:00\u001b[0m\n",
            "\u001b[?25hRequirement already satisfied: tornado<7,>=6.0.3 in /usr/local/lib/python3.10/dist-packages (from streamlit) (6.3.3)\n",
            "Collecting watchdog>=2.1.5 (from streamlit)\n",
            "  Downloading watchdog-4.0.0-py3-none-manylinux2014_x86_64.whl (82 kB)\n",
            "\u001b[2K     \u001b[90m━━━━━━━━━━━━━━━━━━━━━━━━━━━━━━━━━━━━━━━━\u001b[0m \u001b[32m83.0/83.0 kB\u001b[0m \u001b[31m5.5 MB/s\u001b[0m eta \u001b[36m0:00:00\u001b[0m\n",
            "\u001b[?25hRequirement already satisfied: entrypoints in /usr/local/lib/python3.10/dist-packages (from altair<6,>=4.0->streamlit) (0.4)\n",
            "Requirement already satisfied: jinja2 in /usr/local/lib/python3.10/dist-packages (from altair<6,>=4.0->streamlit) (3.1.4)\n",
            "Requirement already satisfied: jsonschema>=3.0 in /usr/local/lib/python3.10/dist-packages (from altair<6,>=4.0->streamlit) (4.19.2)\n",
            "Requirement already satisfied: toolz in /usr/local/lib/python3.10/dist-packages (from altair<6,>=4.0->streamlit) (0.12.1)\n",
            "Collecting gitdb<5,>=4.0.1 (from gitpython!=3.1.19,<4,>=3.0.7->streamlit)\n",
            "  Downloading gitdb-4.0.11-py3-none-any.whl (62 kB)\n",
            "\u001b[2K     \u001b[90m━━━━━━━━━━━━━━━━━━━━━━━━━━━━━━━━━━━━━━━━\u001b[0m \u001b[32m62.7/62.7 kB\u001b[0m \u001b[31m5.3 MB/s\u001b[0m eta \u001b[36m0:00:00\u001b[0m\n",
            "\u001b[?25hRequirement already satisfied: python-dateutil>=2.8.2 in /usr/local/lib/python3.10/dist-packages (from pandas<3,>=1.3.0->streamlit) (2.8.2)\n",
            "Requirement already satisfied: pytz>=2020.1 in /usr/local/lib/python3.10/dist-packages (from pandas<3,>=1.3.0->streamlit) (2023.4)\n",
            "Requirement already satisfied: tzdata>=2022.1 in /usr/local/lib/python3.10/dist-packages (from pandas<3,>=1.3.0->streamlit) (2024.1)\n",
            "Requirement already satisfied: charset-normalizer<4,>=2 in /usr/local/lib/python3.10/dist-packages (from requests<3,>=2.27->streamlit) (3.3.2)\n",
            "Requirement already satisfied: idna<4,>=2.5 in /usr/local/lib/python3.10/dist-packages (from requests<3,>=2.27->streamlit) (3.7)\n",
            "Requirement already satisfied: urllib3<3,>=1.21.1 in /usr/local/lib/python3.10/dist-packages (from requests<3,>=2.27->streamlit) (2.0.7)\n",
            "Requirement already satisfied: certifi>=2017.4.17 in /usr/local/lib/python3.10/dist-packages (from requests<3,>=2.27->streamlit) (2024.2.2)\n",
            "Requirement already satisfied: markdown-it-py>=2.2.0 in /usr/local/lib/python3.10/dist-packages (from rich<14,>=10.14.0->streamlit) (3.0.0)\n",
            "Requirement already satisfied: pygments<3.0.0,>=2.13.0 in /usr/local/lib/python3.10/dist-packages (from rich<14,>=10.14.0->streamlit) (2.16.1)\n",
            "Collecting smmap<6,>=3.0.1 (from gitdb<5,>=4.0.1->gitpython!=3.1.19,<4,>=3.0.7->streamlit)\n",
            "  Downloading smmap-5.0.1-py3-none-any.whl (24 kB)\n",
            "Requirement already satisfied: MarkupSafe>=2.0 in /usr/local/lib/python3.10/dist-packages (from jinja2->altair<6,>=4.0->streamlit) (2.1.5)\n",
            "Requirement already satisfied: attrs>=22.2.0 in /usr/local/lib/python3.10/dist-packages (from jsonschema>=3.0->altair<6,>=4.0->streamlit) (23.2.0)\n",
            "Requirement already satisfied: jsonschema-specifications>=2023.03.6 in /usr/local/lib/python3.10/dist-packages (from jsonschema>=3.0->altair<6,>=4.0->streamlit) (2023.12.1)\n",
            "Requirement already satisfied: referencing>=0.28.4 in /usr/local/lib/python3.10/dist-packages (from jsonschema>=3.0->altair<6,>=4.0->streamlit) (0.35.1)\n",
            "Requirement already satisfied: rpds-py>=0.7.1 in /usr/local/lib/python3.10/dist-packages (from jsonschema>=3.0->altair<6,>=4.0->streamlit) (0.18.1)\n",
            "Requirement already satisfied: mdurl~=0.1 in /usr/local/lib/python3.10/dist-packages (from markdown-it-py>=2.2.0->rich<14,>=10.14.0->streamlit) (0.1.2)\n",
            "Requirement already satisfied: six>=1.5 in /usr/local/lib/python3.10/dist-packages (from python-dateutil>=2.8.2->pandas<3,>=1.3.0->streamlit) (1.16.0)\n",
            "Installing collected packages: watchdog, smmap, pydeck, gitdb, gitpython, streamlit\n",
            "Successfully installed gitdb-4.0.11 gitpython-3.1.43 pydeck-0.9.1 smmap-5.0.1 streamlit-1.34.0 watchdog-4.0.0\n"
          ]
        }
      ]
    },
    {
      "cell_type": "markdown",
      "source": [
        "## **IMPORTING MODULES:**"
      ],
      "metadata": {
        "id": "OE7weVD2YEDy"
      }
    },
    {
      "cell_type": "code",
      "execution_count": 31,
      "metadata": {
        "id": "BXXoGhs6xjiD"
      },
      "outputs": [],
      "source": [
        "import streamlit as st\n",
        "import time\n",
        "import cv2\n",
        "from PIL import Image,ImageOps\n",
        "import numpy as np\n",
        "import sys\n",
        "from matplotlib import pyplot\n",
        "import pandas as pd\n",
        "from PIL import Image\n",
        "from numpy import mean\n",
        "from numpy import std\n",
        "from numpy import argmax\n",
        "from matplotlib import pyplot as plt\n",
        "from sklearn.model_selection import KFold\n",
        "from keras.preprocessing.image import ImageDataGenerator\n",
        "from keras.models import Sequential\n",
        "from keras.layers import Dropout\n",
        "from keras.layers import BatchNormalization\n",
        "from keras.layers import Conv2D\n",
        "from keras.layers import MaxPooling2D\n",
        "from keras.layers import Dense\n",
        "from keras.layers import Flatten\n",
        "from keras.optimizers import SGD\n",
        "from keras.models import load_model\n",
        "from keras.utils import load_img\n",
        "from keras.utils import img_to_array\n",
        "from keras.utils import to_categorical"
      ]
    },
    {
      "cell_type": "code",
      "source": [
        "@st.cache(allow_output_mutation=True)\n",
        "def load_model():\n",
        "  model=tf.keras.models.load_model('saved_fashion.h5')\n",
        "  return model\n",
        "\n",
        "def import_and_predict(image_data,model):\n",
        "    size=(64,64)\n",
        "    image=ImageOps.fit(image_data,size,Image.ANTIALIAS)\n",
        "    img=np.asarray(image)\n",
        "    img_reshape=img[np.newaxis,...]\n",
        "    prediction=model.predict(img_reshape)\n",
        "    return prediction\n",
        "\n",
        "st.write(\"\"\"# Fasion\"\"\")\n",
        "\n",
        "file=st.file_uploader(\"Choose clothes photo from computer\",type=[\"jpg\",\"png\"])\n",
        "\n",
        "if file is not None:\n",
        "    model = load_model()\n",
        "    image = Image.open(file)\n",
        "    st.image(image, caption='Uploaded Image.', use_column_width=True)\n",
        "    prediction = import_and_predict(image, model)\n",
        "    # Display prediction results\n",
        "    st.write(\"Prediction:\", prediction)\n"
      ],
      "metadata": {
        "id": "gRotsPo7iMu7"
      },
      "execution_count": 26,
      "outputs": []
    },
    {
      "cell_type": "markdown",
      "source": [
        "## **IMPORTING CSV FILE**"
      ],
      "metadata": {
        "id": "Ujr01x2LY2dE"
      }
    },
    {
      "cell_type": "code",
      "source": [
        "train_dataset = pd.read_csv(\"/content/drive/MyDrive/Dataset/fashion-mnist_test.csv\")\n",
        "test_dataset = pd.read_csv(\"/content/drive/MyDrive/Dataset/fashion-mnist_train.csv\")"
      ],
      "metadata": {
        "id": "_M2R_zoqFiuy"
      },
      "execution_count": 6,
      "outputs": []
    },
    {
      "cell_type": "code",
      "source": [
        "train_dataset.shape"
      ],
      "metadata": {
        "colab": {
          "base_uri": "https://localhost:8080/"
        },
        "id": "c6XyKKxpFwOJ",
        "outputId": "a0470467-7a44-4ae7-cfaf-52b1bdf9241a"
      },
      "execution_count": 7,
      "outputs": [
        {
          "output_type": "execute_result",
          "data": {
            "text/plain": [
              "(10000, 785)"
            ]
          },
          "metadata": {},
          "execution_count": 7
        }
      ]
    },
    {
      "cell_type": "code",
      "source": [
        "test_dataset.shape"
      ],
      "metadata": {
        "colab": {
          "base_uri": "https://localhost:8080/"
        },
        "id": "yu--OYvNFy7H",
        "outputId": "28626fac-ca6e-4bf1-b82a-57b9af2f972c"
      },
      "execution_count": 8,
      "outputs": [
        {
          "output_type": "execute_result",
          "data": {
            "text/plain": [
              "(60000, 785)"
            ]
          },
          "metadata": {},
          "execution_count": 8
        }
      ]
    },
    {
      "cell_type": "code",
      "source": [
        "train_dataset.head()"
      ],
      "metadata": {
        "colab": {
          "base_uri": "https://localhost:8080/",
          "height": 256
        },
        "id": "8QxsEzkOF19o",
        "outputId": "875ce318-3ea9-4720-e6cc-fdb81ed52922"
      },
      "execution_count": 9,
      "outputs": [
        {
          "output_type": "execute_result",
          "data": {
            "text/plain": [
              "   label  pixel1  pixel2  pixel3  pixel4  pixel5  pixel6  pixel7  pixel8  \\\n",
              "0      0       0       0       0       0       0       0       0       9   \n",
              "1      1       0       0       0       0       0       0       0       0   \n",
              "2      2       0       0       0       0       0       0      14      53   \n",
              "3      2       0       0       0       0       0       0       0       0   \n",
              "4      3       0       0       0       0       0       0       0       0   \n",
              "\n",
              "   pixel9  ...  pixel775  pixel776  pixel777  pixel778  pixel779  pixel780  \\\n",
              "0       8  ...       103        87        56         0         0         0   \n",
              "1       0  ...        34         0         0         0         0         0   \n",
              "2      99  ...         0         0         0         0        63        53   \n",
              "3       0  ...       137       126       140         0       133       224   \n",
              "4       0  ...         0         0         0         0         0         0   \n",
              "\n",
              "   pixel781  pixel782  pixel783  pixel784  \n",
              "0         0         0         0         0  \n",
              "1         0         0         0         0  \n",
              "2        31         0         0         0  \n",
              "3       222        56         0         0  \n",
              "4         0         0         0         0  \n",
              "\n",
              "[5 rows x 785 columns]"
            ],
            "text/html": [
              "\n",
              "  <div id=\"df-04366791-68ba-4d9c-b440-ba8d660ce953\" class=\"colab-df-container\">\n",
              "    <div>\n",
              "<style scoped>\n",
              "    .dataframe tbody tr th:only-of-type {\n",
              "        vertical-align: middle;\n",
              "    }\n",
              "\n",
              "    .dataframe tbody tr th {\n",
              "        vertical-align: top;\n",
              "    }\n",
              "\n",
              "    .dataframe thead th {\n",
              "        text-align: right;\n",
              "    }\n",
              "</style>\n",
              "<table border=\"1\" class=\"dataframe\">\n",
              "  <thead>\n",
              "    <tr style=\"text-align: right;\">\n",
              "      <th></th>\n",
              "      <th>label</th>\n",
              "      <th>pixel1</th>\n",
              "      <th>pixel2</th>\n",
              "      <th>pixel3</th>\n",
              "      <th>pixel4</th>\n",
              "      <th>pixel5</th>\n",
              "      <th>pixel6</th>\n",
              "      <th>pixel7</th>\n",
              "      <th>pixel8</th>\n",
              "      <th>pixel9</th>\n",
              "      <th>...</th>\n",
              "      <th>pixel775</th>\n",
              "      <th>pixel776</th>\n",
              "      <th>pixel777</th>\n",
              "      <th>pixel778</th>\n",
              "      <th>pixel779</th>\n",
              "      <th>pixel780</th>\n",
              "      <th>pixel781</th>\n",
              "      <th>pixel782</th>\n",
              "      <th>pixel783</th>\n",
              "      <th>pixel784</th>\n",
              "    </tr>\n",
              "  </thead>\n",
              "  <tbody>\n",
              "    <tr>\n",
              "      <th>0</th>\n",
              "      <td>0</td>\n",
              "      <td>0</td>\n",
              "      <td>0</td>\n",
              "      <td>0</td>\n",
              "      <td>0</td>\n",
              "      <td>0</td>\n",
              "      <td>0</td>\n",
              "      <td>0</td>\n",
              "      <td>9</td>\n",
              "      <td>8</td>\n",
              "      <td>...</td>\n",
              "      <td>103</td>\n",
              "      <td>87</td>\n",
              "      <td>56</td>\n",
              "      <td>0</td>\n",
              "      <td>0</td>\n",
              "      <td>0</td>\n",
              "      <td>0</td>\n",
              "      <td>0</td>\n",
              "      <td>0</td>\n",
              "      <td>0</td>\n",
              "    </tr>\n",
              "    <tr>\n",
              "      <th>1</th>\n",
              "      <td>1</td>\n",
              "      <td>0</td>\n",
              "      <td>0</td>\n",
              "      <td>0</td>\n",
              "      <td>0</td>\n",
              "      <td>0</td>\n",
              "      <td>0</td>\n",
              "      <td>0</td>\n",
              "      <td>0</td>\n",
              "      <td>0</td>\n",
              "      <td>...</td>\n",
              "      <td>34</td>\n",
              "      <td>0</td>\n",
              "      <td>0</td>\n",
              "      <td>0</td>\n",
              "      <td>0</td>\n",
              "      <td>0</td>\n",
              "      <td>0</td>\n",
              "      <td>0</td>\n",
              "      <td>0</td>\n",
              "      <td>0</td>\n",
              "    </tr>\n",
              "    <tr>\n",
              "      <th>2</th>\n",
              "      <td>2</td>\n",
              "      <td>0</td>\n",
              "      <td>0</td>\n",
              "      <td>0</td>\n",
              "      <td>0</td>\n",
              "      <td>0</td>\n",
              "      <td>0</td>\n",
              "      <td>14</td>\n",
              "      <td>53</td>\n",
              "      <td>99</td>\n",
              "      <td>...</td>\n",
              "      <td>0</td>\n",
              "      <td>0</td>\n",
              "      <td>0</td>\n",
              "      <td>0</td>\n",
              "      <td>63</td>\n",
              "      <td>53</td>\n",
              "      <td>31</td>\n",
              "      <td>0</td>\n",
              "      <td>0</td>\n",
              "      <td>0</td>\n",
              "    </tr>\n",
              "    <tr>\n",
              "      <th>3</th>\n",
              "      <td>2</td>\n",
              "      <td>0</td>\n",
              "      <td>0</td>\n",
              "      <td>0</td>\n",
              "      <td>0</td>\n",
              "      <td>0</td>\n",
              "      <td>0</td>\n",
              "      <td>0</td>\n",
              "      <td>0</td>\n",
              "      <td>0</td>\n",
              "      <td>...</td>\n",
              "      <td>137</td>\n",
              "      <td>126</td>\n",
              "      <td>140</td>\n",
              "      <td>0</td>\n",
              "      <td>133</td>\n",
              "      <td>224</td>\n",
              "      <td>222</td>\n",
              "      <td>56</td>\n",
              "      <td>0</td>\n",
              "      <td>0</td>\n",
              "    </tr>\n",
              "    <tr>\n",
              "      <th>4</th>\n",
              "      <td>3</td>\n",
              "      <td>0</td>\n",
              "      <td>0</td>\n",
              "      <td>0</td>\n",
              "      <td>0</td>\n",
              "      <td>0</td>\n",
              "      <td>0</td>\n",
              "      <td>0</td>\n",
              "      <td>0</td>\n",
              "      <td>0</td>\n",
              "      <td>...</td>\n",
              "      <td>0</td>\n",
              "      <td>0</td>\n",
              "      <td>0</td>\n",
              "      <td>0</td>\n",
              "      <td>0</td>\n",
              "      <td>0</td>\n",
              "      <td>0</td>\n",
              "      <td>0</td>\n",
              "      <td>0</td>\n",
              "      <td>0</td>\n",
              "    </tr>\n",
              "  </tbody>\n",
              "</table>\n",
              "<p>5 rows × 785 columns</p>\n",
              "</div>\n",
              "    <div class=\"colab-df-buttons\">\n",
              "\n",
              "  <div class=\"colab-df-container\">\n",
              "    <button class=\"colab-df-convert\" onclick=\"convertToInteractive('df-04366791-68ba-4d9c-b440-ba8d660ce953')\"\n",
              "            title=\"Convert this dataframe to an interactive table.\"\n",
              "            style=\"display:none;\">\n",
              "\n",
              "  <svg xmlns=\"http://www.w3.org/2000/svg\" height=\"24px\" viewBox=\"0 -960 960 960\">\n",
              "    <path d=\"M120-120v-720h720v720H120Zm60-500h600v-160H180v160Zm220 220h160v-160H400v160Zm0 220h160v-160H400v160ZM180-400h160v-160H180v160Zm440 0h160v-160H620v160ZM180-180h160v-160H180v160Zm440 0h160v-160H620v160Z\"/>\n",
              "  </svg>\n",
              "    </button>\n",
              "\n",
              "  <style>\n",
              "    .colab-df-container {\n",
              "      display:flex;\n",
              "      gap: 12px;\n",
              "    }\n",
              "\n",
              "    .colab-df-convert {\n",
              "      background-color: #E8F0FE;\n",
              "      border: none;\n",
              "      border-radius: 50%;\n",
              "      cursor: pointer;\n",
              "      display: none;\n",
              "      fill: #1967D2;\n",
              "      height: 32px;\n",
              "      padding: 0 0 0 0;\n",
              "      width: 32px;\n",
              "    }\n",
              "\n",
              "    .colab-df-convert:hover {\n",
              "      background-color: #E2EBFA;\n",
              "      box-shadow: 0px 1px 2px rgba(60, 64, 67, 0.3), 0px 1px 3px 1px rgba(60, 64, 67, 0.15);\n",
              "      fill: #174EA6;\n",
              "    }\n",
              "\n",
              "    .colab-df-buttons div {\n",
              "      margin-bottom: 4px;\n",
              "    }\n",
              "\n",
              "    [theme=dark] .colab-df-convert {\n",
              "      background-color: #3B4455;\n",
              "      fill: #D2E3FC;\n",
              "    }\n",
              "\n",
              "    [theme=dark] .colab-df-convert:hover {\n",
              "      background-color: #434B5C;\n",
              "      box-shadow: 0px 1px 3px 1px rgba(0, 0, 0, 0.15);\n",
              "      filter: drop-shadow(0px 1px 2px rgba(0, 0, 0, 0.3));\n",
              "      fill: #FFFFFF;\n",
              "    }\n",
              "  </style>\n",
              "\n",
              "    <script>\n",
              "      const buttonEl =\n",
              "        document.querySelector('#df-04366791-68ba-4d9c-b440-ba8d660ce953 button.colab-df-convert');\n",
              "      buttonEl.style.display =\n",
              "        google.colab.kernel.accessAllowed ? 'block' : 'none';\n",
              "\n",
              "      async function convertToInteractive(key) {\n",
              "        const element = document.querySelector('#df-04366791-68ba-4d9c-b440-ba8d660ce953');\n",
              "        const dataTable =\n",
              "          await google.colab.kernel.invokeFunction('convertToInteractive',\n",
              "                                                    [key], {});\n",
              "        if (!dataTable) return;\n",
              "\n",
              "        const docLinkHtml = 'Like what you see? Visit the ' +\n",
              "          '<a target=\"_blank\" href=https://colab.research.google.com/notebooks/data_table.ipynb>data table notebook</a>'\n",
              "          + ' to learn more about interactive tables.';\n",
              "        element.innerHTML = '';\n",
              "        dataTable['output_type'] = 'display_data';\n",
              "        await google.colab.output.renderOutput(dataTable, element);\n",
              "        const docLink = document.createElement('div');\n",
              "        docLink.innerHTML = docLinkHtml;\n",
              "        element.appendChild(docLink);\n",
              "      }\n",
              "    </script>\n",
              "  </div>\n",
              "\n",
              "\n",
              "<div id=\"df-5bc7f44d-fe81-424d-902b-76edfa6009a9\">\n",
              "  <button class=\"colab-df-quickchart\" onclick=\"quickchart('df-5bc7f44d-fe81-424d-902b-76edfa6009a9')\"\n",
              "            title=\"Suggest charts\"\n",
              "            style=\"display:none;\">\n",
              "\n",
              "<svg xmlns=\"http://www.w3.org/2000/svg\" height=\"24px\"viewBox=\"0 0 24 24\"\n",
              "     width=\"24px\">\n",
              "    <g>\n",
              "        <path d=\"M19 3H5c-1.1 0-2 .9-2 2v14c0 1.1.9 2 2 2h14c1.1 0 2-.9 2-2V5c0-1.1-.9-2-2-2zM9 17H7v-7h2v7zm4 0h-2V7h2v10zm4 0h-2v-4h2v4z\"/>\n",
              "    </g>\n",
              "</svg>\n",
              "  </button>\n",
              "\n",
              "<style>\n",
              "  .colab-df-quickchart {\n",
              "      --bg-color: #E8F0FE;\n",
              "      --fill-color: #1967D2;\n",
              "      --hover-bg-color: #E2EBFA;\n",
              "      --hover-fill-color: #174EA6;\n",
              "      --disabled-fill-color: #AAA;\n",
              "      --disabled-bg-color: #DDD;\n",
              "  }\n",
              "\n",
              "  [theme=dark] .colab-df-quickchart {\n",
              "      --bg-color: #3B4455;\n",
              "      --fill-color: #D2E3FC;\n",
              "      --hover-bg-color: #434B5C;\n",
              "      --hover-fill-color: #FFFFFF;\n",
              "      --disabled-bg-color: #3B4455;\n",
              "      --disabled-fill-color: #666;\n",
              "  }\n",
              "\n",
              "  .colab-df-quickchart {\n",
              "    background-color: var(--bg-color);\n",
              "    border: none;\n",
              "    border-radius: 50%;\n",
              "    cursor: pointer;\n",
              "    display: none;\n",
              "    fill: var(--fill-color);\n",
              "    height: 32px;\n",
              "    padding: 0;\n",
              "    width: 32px;\n",
              "  }\n",
              "\n",
              "  .colab-df-quickchart:hover {\n",
              "    background-color: var(--hover-bg-color);\n",
              "    box-shadow: 0 1px 2px rgba(60, 64, 67, 0.3), 0 1px 3px 1px rgba(60, 64, 67, 0.15);\n",
              "    fill: var(--button-hover-fill-color);\n",
              "  }\n",
              "\n",
              "  .colab-df-quickchart-complete:disabled,\n",
              "  .colab-df-quickchart-complete:disabled:hover {\n",
              "    background-color: var(--disabled-bg-color);\n",
              "    fill: var(--disabled-fill-color);\n",
              "    box-shadow: none;\n",
              "  }\n",
              "\n",
              "  .colab-df-spinner {\n",
              "    border: 2px solid var(--fill-color);\n",
              "    border-color: transparent;\n",
              "    border-bottom-color: var(--fill-color);\n",
              "    animation:\n",
              "      spin 1s steps(1) infinite;\n",
              "  }\n",
              "\n",
              "  @keyframes spin {\n",
              "    0% {\n",
              "      border-color: transparent;\n",
              "      border-bottom-color: var(--fill-color);\n",
              "      border-left-color: var(--fill-color);\n",
              "    }\n",
              "    20% {\n",
              "      border-color: transparent;\n",
              "      border-left-color: var(--fill-color);\n",
              "      border-top-color: var(--fill-color);\n",
              "    }\n",
              "    30% {\n",
              "      border-color: transparent;\n",
              "      border-left-color: var(--fill-color);\n",
              "      border-top-color: var(--fill-color);\n",
              "      border-right-color: var(--fill-color);\n",
              "    }\n",
              "    40% {\n",
              "      border-color: transparent;\n",
              "      border-right-color: var(--fill-color);\n",
              "      border-top-color: var(--fill-color);\n",
              "    }\n",
              "    60% {\n",
              "      border-color: transparent;\n",
              "      border-right-color: var(--fill-color);\n",
              "    }\n",
              "    80% {\n",
              "      border-color: transparent;\n",
              "      border-right-color: var(--fill-color);\n",
              "      border-bottom-color: var(--fill-color);\n",
              "    }\n",
              "    90% {\n",
              "      border-color: transparent;\n",
              "      border-bottom-color: var(--fill-color);\n",
              "    }\n",
              "  }\n",
              "</style>\n",
              "\n",
              "  <script>\n",
              "    async function quickchart(key) {\n",
              "      const quickchartButtonEl =\n",
              "        document.querySelector('#' + key + ' button');\n",
              "      quickchartButtonEl.disabled = true;  // To prevent multiple clicks.\n",
              "      quickchartButtonEl.classList.add('colab-df-spinner');\n",
              "      try {\n",
              "        const charts = await google.colab.kernel.invokeFunction(\n",
              "            'suggestCharts', [key], {});\n",
              "      } catch (error) {\n",
              "        console.error('Error during call to suggestCharts:', error);\n",
              "      }\n",
              "      quickchartButtonEl.classList.remove('colab-df-spinner');\n",
              "      quickchartButtonEl.classList.add('colab-df-quickchart-complete');\n",
              "    }\n",
              "    (() => {\n",
              "      let quickchartButtonEl =\n",
              "        document.querySelector('#df-5bc7f44d-fe81-424d-902b-76edfa6009a9 button');\n",
              "      quickchartButtonEl.style.display =\n",
              "        google.colab.kernel.accessAllowed ? 'block' : 'none';\n",
              "    })();\n",
              "  </script>\n",
              "</div>\n",
              "    </div>\n",
              "  </div>\n"
            ],
            "application/vnd.google.colaboratory.intrinsic+json": {
              "type": "dataframe",
              "variable_name": "train_dataset"
            }
          },
          "metadata": {},
          "execution_count": 9
        }
      ]
    },
    {
      "cell_type": "markdown",
      "source": [
        "## **FORMATTING THE TRAIN AND TEST SETS**"
      ],
      "metadata": {
        "id": "DrzgVCSCZ42z"
      }
    },
    {
      "cell_type": "code",
      "source": [
        "img_rows, img_cols = 28, 28\n",
        "input_shape = (img_rows, img_cols, 1)"
      ],
      "metadata": {
        "id": "GKvI9Q8WF6zc"
      },
      "execution_count": 10,
      "outputs": []
    },
    {
      "cell_type": "code",
      "source": [
        "#separate x and y and convert to array\n",
        "\n",
        "#train dataset\n",
        "train_datasetX = np.array(train_dataset.iloc[:, 1:])\n",
        "train_datasetY = np.array(train_dataset.iloc[:, 0])\n",
        "\n",
        "#test dataset\n",
        "test_X = np.array(test_dataset.iloc[:, 1:])\n",
        "test_Y = np.array(test_dataset.iloc[:, 0])"
      ],
      "metadata": {
        "id": "RR2qqQU7F8X_"
      },
      "execution_count": 11,
      "outputs": []
    },
    {
      "cell_type": "code",
      "source": [
        "#one hot encoding to the y variables of train and test data\n",
        "train_datasetY = to_categorical(train_datasetY)\n",
        "test_Y = to_categorical(test_Y)"
      ],
      "metadata": {
        "id": "rWS96dX7F-WZ"
      },
      "execution_count": 12,
      "outputs": []
    },
    {
      "cell_type": "code",
      "source": [
        "batch_size = 64\n",
        "num_classes = test_Y.shape[1]"
      ],
      "metadata": {
        "id": "pjEe2khJGBS7"
      },
      "execution_count": 13,
      "outputs": []
    },
    {
      "cell_type": "code",
      "source": [
        "#split the train into train and validation (for later purposes)\n",
        "\n",
        "from sklearn.model_selection import train_test_split\n",
        "\n",
        "train_X, val_X, train_Y, val_Y = train_test_split(train_datasetX, train_datasetY, test_size=0.2, random_state=13)"
      ],
      "metadata": {
        "id": "5ytnO_-1GDWF"
      },
      "execution_count": 14,
      "outputs": []
    },
    {
      "cell_type": "code",
      "source": [
        "print(train_X.shape)\n",
        "print(val_X.shape)\n",
        "print(test_X.shape)"
      ],
      "metadata": {
        "colab": {
          "base_uri": "https://localhost:8080/"
        },
        "id": "Xh6OvwQRGEFJ",
        "outputId": "86dd9baf-9b27-4856-f796-f1e02926f68d"
      },
      "execution_count": 15,
      "outputs": [
        {
          "output_type": "stream",
          "name": "stdout",
          "text": [
            "(8000, 784)\n",
            "(2000, 784)\n",
            "(60000, 784)\n"
          ]
        }
      ]
    },
    {
      "cell_type": "code",
      "source": [
        "def prep_pixels(train_X, val_X, test_X, train_Y, val_Y, test_Y):\n",
        "  trainX = train_X.reshape(train_X.shape[0], img_rows, img_cols, 1)\n",
        "  valX = val_X.reshape(val_X.shape[0], img_rows, img_cols, 1)\n",
        "  testX = test_X.reshape(test_X.shape[0], img_rows, img_cols, 1)\n",
        "  trainY = train_Y\n",
        "  valY = val_Y\n",
        "  testY = test_Y\n",
        "\t# convert from integers to floats\n",
        "  trainX = trainX.astype('float32')\n",
        "  valX = valX.astype('float32')\n",
        "  testX = testX.astype('float32')\n",
        "\t# normalize to range 0-1\n",
        "  trainX = trainX / 255.0\n",
        "  valX = valX / 255.0\n",
        "  testX = testX / 255.0\n",
        "\n",
        "\t# return normalized images\n",
        "  return trainX, valX, testX, trainY, valY, testY"
      ],
      "metadata": {
        "id": "5Rjj-VOeGF7q"
      },
      "execution_count": 16,
      "outputs": []
    },
    {
      "cell_type": "code",
      "source": [
        "def summarize_diagnostics(history):\n",
        "\t# plot loss\n",
        "\tpyplot.figure(figsize=(16,10))\n",
        "\tpyplot.subplot(211)\n",
        "\tpyplot.title('Cross Entropy Loss')\n",
        "\tpyplot.plot(history.history['loss'], color='blue', label='train')\n",
        "\tpyplot.plot(history.history['val_loss'], color='orange', label='test')\n",
        "\t# plot accuracy\n",
        "\tpyplot.subplot(212)\n",
        "\tpyplot.title('Classification Accuracy')\n",
        "\tpyplot.plot(history.history['accuracy'], color='blue', label='train')\n",
        "\tpyplot.plot(history.history['val_accuracy'], color='orange', label='test')"
      ],
      "metadata": {
        "id": "SGPTm4x8GJ6m"
      },
      "execution_count": 17,
      "outputs": []
    },
    {
      "cell_type": "markdown",
      "source": [
        "## **Performing and Saving Augmentation, Utilizing Test Harness**"
      ],
      "metadata": {
        "id": "ptgRPUVUa7aC"
      }
    },
    {
      "cell_type": "code",
      "source": [
        "shift_fraction = 0.005"
      ],
      "metadata": {
        "id": "8M9Mp7mNGL1X"
      },
      "execution_count": 18,
      "outputs": []
    },
    {
      "cell_type": "code",
      "source": [
        "def run_test_harness(model_x, epochs):\n",
        "  trainX, valX, testX, trainY, valY, testY = prep_pixels(train_X, val_X, test_X, train_Y, val_Y, test_Y)\n",
        "  model = model_x\n",
        "  model.summary()\n",
        "\n",
        "  #Image Augmentation\n",
        "  datagen = ImageDataGenerator(width_shift_range=shift_fraction,height_shift_range=shift_fraction,horizontal_flip=True)\n",
        "\n",
        "  it_train = datagen.flow(trainX, trainY, batch_size=batch_size)\n",
        "\t# prepare iterator\n",
        "  it_val = datagen.flow(valX, valY, batch_size=batch_size)\n",
        "  # fit model\n",
        "  steps = int(trainX.shape[0] / batch_size)\n",
        "  history = model.fit_generator(it_train, steps_per_epoch=steps, epochs=epochs, validation_data=it_val, verbose=1)\n",
        "  # evaluate model\n",
        "  _, acc = model.evaluate(testX, testY, verbose=1)\n",
        "  print('Accuracy:')\n",
        "  print('> %.3f' % (acc * 100.0))\n",
        "  # learning curves\n",
        "  summarize_diagnostics(history)"
      ],
      "metadata": {
        "id": "OdKpO4SZGNzS"
      },
      "execution_count": 19,
      "outputs": []
    },
    {
      "cell_type": "markdown",
      "source": [
        "## **THIRD BASELINE MODEL**"
      ],
      "metadata": {
        "id": "avQWmISZber7"
      }
    },
    {
      "cell_type": "code",
      "source": [
        "from tensorflow.keras.callbacks import EarlyStopping"
      ],
      "metadata": {
        "id": "AdRkiHfPGQSW"
      },
      "execution_count": 20,
      "outputs": []
    },
    {
      "cell_type": "code",
      "source": [
        "# define cnn model\n",
        "def define_model_3():\n",
        "\tmodel3 = Sequential()\n",
        "\tmodel3.add(Conv2D(32, (3, 3), activation='relu', padding='same', input_shape=input_shape))\n",
        "\tmodel3.add(BatchNormalization())\n",
        "\tmodel3.add(Conv2D(32, (3, 3), activation='relu', padding='same'))\n",
        "\tmodel3.add(BatchNormalization())\n",
        "\tmodel3.add(MaxPooling2D((2, 2)))\n",
        "\tmodel3.add(Dropout(0.25))\n",
        "\n",
        "\tmodel3.add(Conv2D(64, (3, 3), activation='relu', padding='same'))\n",
        "\tmodel3.add(BatchNormalization())\n",
        "\tmodel3.add(Conv2D(64, (3, 3), activation='relu', padding='same'))\n",
        "\tmodel3.add(BatchNormalization())\n",
        "\tmodel3.add(MaxPooling2D((2, 2)))\n",
        "\tmodel3.add(Dropout(0.25))\n",
        "\n",
        "\tmodel3.add(Conv2D(128, (3, 3), activation='relu', padding='same'))\n",
        "\tmodel3.add(BatchNormalization())\n",
        "\tmodel3.add(Conv2D(128, (3, 3), activation='relu', padding='same'))\n",
        "\tmodel3.add(BatchNormalization())\n",
        "\tmodel3.add(MaxPooling2D((2, 2)))\n",
        "\tmodel3.add(Dropout(0.25))\n",
        "\n",
        "\tmodel3.add(Conv2D(256, (3, 3), activation='relu', padding='same'))\n",
        "\tmodel3.add(BatchNormalization())\n",
        "\tmodel3.add(Conv2D(256, (3, 3), activation='relu', padding='same'))\n",
        "\tmodel3.add(BatchNormalization())\n",
        "\tmodel3.add(MaxPooling2D((2, 2)))\n",
        "\tmodel3.add(Dropout(0.25))\n",
        "\n",
        "\n",
        "\n",
        "\tmodel3.add(Flatten())\n",
        "\tmodel3.add(Dropout(0.25))\n",
        "\tmodel3.add(Dense(512, activation='relu'))\n",
        "\tmodel3.add(Dropout(0.25))\n",
        "\tmodel3.add(Dense(128, activation='relu'))\n",
        "\tmodel3.add(Dropout(0.25))\n",
        "\tmodel3.add(Dense(10, activation='softmax'))\n",
        "\n",
        "\t# compile model\n",
        "\n",
        "\tmodel3.compile(optimizer='adam', loss='categorical_crossentropy', metrics=['accuracy'])\n",
        "\treturn model3"
      ],
      "metadata": {
        "id": "Qhe7yaaFGUCM"
      },
      "execution_count": 21,
      "outputs": []
    },
    {
      "cell_type": "code",
      "source": [
        "early_stop = EarlyStopping(monitor='val_loss', patience=2)"
      ],
      "metadata": {
        "id": "ydbBTtx0GXAz"
      },
      "execution_count": 22,
      "outputs": []
    },
    {
      "cell_type": "code",
      "source": [
        "model3= define_model_3()"
      ],
      "metadata": {
        "id": "f1dOEDQaGYlx"
      },
      "execution_count": 23,
      "outputs": []
    },
    {
      "cell_type": "code",
      "source": [
        "run_test_harness(model3, 100)"
      ],
      "metadata": {
        "colab": {
          "base_uri": "https://localhost:8080/",
          "height": 1000
        },
        "id": "Io-N9FbkGZ_G",
        "outputId": "8a407280-b85a-4eb3-ba30-c8e0ed04dd23"
      },
      "execution_count": 24,
      "outputs": [
        {
          "output_type": "stream",
          "name": "stdout",
          "text": [
            "Model: \"sequential\"\n",
            "_________________________________________________________________\n",
            " Layer (type)                Output Shape              Param #   \n",
            "=================================================================\n",
            " conv2d (Conv2D)             (None, 28, 28, 32)        320       \n",
            "                                                                 \n",
            " batch_normalization (Batch  (None, 28, 28, 32)        128       \n",
            " Normalization)                                                  \n",
            "                                                                 \n",
            " conv2d_1 (Conv2D)           (None, 28, 28, 32)        9248      \n",
            "                                                                 \n",
            " batch_normalization_1 (Bat  (None, 28, 28, 32)        128       \n",
            " chNormalization)                                                \n",
            "                                                                 \n",
            " max_pooling2d (MaxPooling2  (None, 14, 14, 32)        0         \n",
            " D)                                                              \n",
            "                                                                 \n",
            " dropout (Dropout)           (None, 14, 14, 32)        0         \n",
            "                                                                 \n",
            " conv2d_2 (Conv2D)           (None, 14, 14, 64)        18496     \n",
            "                                                                 \n",
            " batch_normalization_2 (Bat  (None, 14, 14, 64)        256       \n",
            " chNormalization)                                                \n",
            "                                                                 \n",
            " conv2d_3 (Conv2D)           (None, 14, 14, 64)        36928     \n",
            "                                                                 \n",
            " batch_normalization_3 (Bat  (None, 14, 14, 64)        256       \n",
            " chNormalization)                                                \n",
            "                                                                 \n",
            " max_pooling2d_1 (MaxPoolin  (None, 7, 7, 64)          0         \n",
            " g2D)                                                            \n",
            "                                                                 \n",
            " dropout_1 (Dropout)         (None, 7, 7, 64)          0         \n",
            "                                                                 \n",
            " conv2d_4 (Conv2D)           (None, 7, 7, 128)         73856     \n",
            "                                                                 \n",
            " batch_normalization_4 (Bat  (None, 7, 7, 128)         512       \n",
            " chNormalization)                                                \n",
            "                                                                 \n",
            " conv2d_5 (Conv2D)           (None, 7, 7, 128)         147584    \n",
            "                                                                 \n",
            " batch_normalization_5 (Bat  (None, 7, 7, 128)         512       \n",
            " chNormalization)                                                \n",
            "                                                                 \n",
            " max_pooling2d_2 (MaxPoolin  (None, 3, 3, 128)         0         \n",
            " g2D)                                                            \n",
            "                                                                 \n",
            " dropout_2 (Dropout)         (None, 3, 3, 128)         0         \n",
            "                                                                 \n",
            " conv2d_6 (Conv2D)           (None, 3, 3, 256)         295168    \n",
            "                                                                 \n",
            " batch_normalization_6 (Bat  (None, 3, 3, 256)         1024      \n",
            " chNormalization)                                                \n",
            "                                                                 \n",
            " conv2d_7 (Conv2D)           (None, 3, 3, 256)         590080    \n",
            "                                                                 \n",
            " batch_normalization_7 (Bat  (None, 3, 3, 256)         1024      \n",
            " chNormalization)                                                \n",
            "                                                                 \n",
            " max_pooling2d_3 (MaxPoolin  (None, 1, 1, 256)         0         \n",
            " g2D)                                                            \n",
            "                                                                 \n",
            " dropout_3 (Dropout)         (None, 1, 1, 256)         0         \n",
            "                                                                 \n",
            " flatten (Flatten)           (None, 256)               0         \n",
            "                                                                 \n",
            " dropout_4 (Dropout)         (None, 256)               0         \n",
            "                                                                 \n",
            " dense (Dense)               (None, 512)               131584    \n",
            "                                                                 \n",
            " dropout_5 (Dropout)         (None, 512)               0         \n",
            "                                                                 \n",
            " dense_1 (Dense)             (None, 128)               65664     \n",
            "                                                                 \n",
            " dropout_6 (Dropout)         (None, 128)               0         \n",
            "                                                                 \n",
            " dense_2 (Dense)             (None, 10)                1290      \n",
            "                                                                 \n",
            "=================================================================\n",
            "Total params: 1374058 (5.24 MB)\n",
            "Trainable params: 1372138 (5.23 MB)\n",
            "Non-trainable params: 1920 (7.50 KB)\n",
            "_________________________________________________________________\n"
          ]
        },
        {
          "output_type": "stream",
          "name": "stderr",
          "text": [
            "<ipython-input-19-cbaefd22cec5>:14: UserWarning: `Model.fit_generator` is deprecated and will be removed in a future version. Please use `Model.fit`, which supports generators.\n",
            "  history = model.fit_generator(it_train, steps_per_epoch=steps, epochs=epochs, validation_data=it_val, verbose=1)\n"
          ]
        },
        {
          "output_type": "stream",
          "name": "stdout",
          "text": [
            "Epoch 1/100\n",
            "125/125 [==============================] - 78s 584ms/step - loss: 1.2069 - accuracy: 0.5665 - val_loss: 2.7129 - val_accuracy: 0.0950\n",
            "Epoch 2/100\n",
            "125/125 [==============================] - 72s 578ms/step - loss: 0.7024 - accuracy: 0.7361 - val_loss: 2.9955 - val_accuracy: 0.1425\n",
            "Epoch 3/100\n",
            "125/125 [==============================] - 71s 568ms/step - loss: 0.5698 - accuracy: 0.7909 - val_loss: 2.0460 - val_accuracy: 0.4205\n",
            "Epoch 4/100\n",
            "125/125 [==============================] - 72s 576ms/step - loss: 0.5200 - accuracy: 0.8139 - val_loss: 0.6648 - val_accuracy: 0.7550\n",
            "Epoch 5/100\n",
            "125/125 [==============================] - 70s 561ms/step - loss: 0.4621 - accuracy: 0.8303 - val_loss: 0.4481 - val_accuracy: 0.8425\n",
            "Epoch 6/100\n",
            "125/125 [==============================] - 70s 562ms/step - loss: 0.4185 - accuracy: 0.8487 - val_loss: 0.3624 - val_accuracy: 0.8705\n",
            "Epoch 7/100\n",
            "125/125 [==============================] - 68s 544ms/step - loss: 0.4006 - accuracy: 0.8572 - val_loss: 0.3786 - val_accuracy: 0.8720\n",
            "Epoch 8/100\n",
            "125/125 [==============================] - 69s 555ms/step - loss: 0.3759 - accuracy: 0.8670 - val_loss: 0.3548 - val_accuracy: 0.8755\n",
            "Epoch 9/100\n",
            "125/125 [==============================] - 73s 582ms/step - loss: 0.3454 - accuracy: 0.8754 - val_loss: 0.3974 - val_accuracy: 0.8560\n",
            "Epoch 10/100\n",
            "125/125 [==============================] - 68s 545ms/step - loss: 0.3516 - accuracy: 0.8773 - val_loss: 0.3187 - val_accuracy: 0.8850\n",
            "Epoch 11/100\n",
            "125/125 [==============================] - 72s 574ms/step - loss: 0.3209 - accuracy: 0.8845 - val_loss: 0.3421 - val_accuracy: 0.8735\n",
            "Epoch 12/100\n",
            "125/125 [==============================] - 70s 559ms/step - loss: 0.3037 - accuracy: 0.8891 - val_loss: 0.3768 - val_accuracy: 0.8845\n",
            "Epoch 13/100\n",
            "125/125 [==============================] - 70s 560ms/step - loss: 0.2832 - accuracy: 0.8972 - val_loss: 0.3135 - val_accuracy: 0.8880\n",
            "Epoch 14/100\n",
            "125/125 [==============================] - 68s 545ms/step - loss: 0.2773 - accuracy: 0.9021 - val_loss: 0.3522 - val_accuracy: 0.8825\n",
            "Epoch 15/100\n",
            "125/125 [==============================] - 71s 565ms/step - loss: 0.2804 - accuracy: 0.8956 - val_loss: 0.3154 - val_accuracy: 0.8900\n",
            "Epoch 16/100\n",
            "125/125 [==============================] - 68s 546ms/step - loss: 0.2617 - accuracy: 0.9046 - val_loss: 0.2984 - val_accuracy: 0.8985\n",
            "Epoch 17/100\n",
            "125/125 [==============================] - 75s 603ms/step - loss: 0.2538 - accuracy: 0.9072 - val_loss: 0.3426 - val_accuracy: 0.8855\n",
            "Epoch 18/100\n",
            "125/125 [==============================] - 71s 566ms/step - loss: 0.2516 - accuracy: 0.9099 - val_loss: 0.2887 - val_accuracy: 0.9040\n",
            "Epoch 19/100\n",
            "125/125 [==============================] - 70s 561ms/step - loss: 0.2367 - accuracy: 0.9143 - val_loss: 0.3081 - val_accuracy: 0.9050\n",
            "Epoch 20/100\n",
            "125/125 [==============================] - 71s 568ms/step - loss: 0.2377 - accuracy: 0.9184 - val_loss: 0.3622 - val_accuracy: 0.8875\n",
            "Epoch 21/100\n",
            "125/125 [==============================] - 70s 560ms/step - loss: 0.2403 - accuracy: 0.9150 - val_loss: 0.2845 - val_accuracy: 0.8995\n",
            "Epoch 22/100\n",
            "125/125 [==============================] - 72s 571ms/step - loss: 0.2117 - accuracy: 0.9230 - val_loss: 0.3340 - val_accuracy: 0.8915\n",
            "Epoch 23/100\n",
            "125/125 [==============================] - 70s 560ms/step - loss: 0.2170 - accuracy: 0.9230 - val_loss: 0.3062 - val_accuracy: 0.9000\n",
            "Epoch 24/100\n",
            "125/125 [==============================] - 72s 571ms/step - loss: 0.2195 - accuracy: 0.9211 - val_loss: 0.2762 - val_accuracy: 0.8980\n",
            "Epoch 25/100\n",
            "125/125 [==============================] - 70s 563ms/step - loss: 0.2029 - accuracy: 0.9283 - val_loss: 0.3081 - val_accuracy: 0.9050\n",
            "Epoch 26/100\n",
            "125/125 [==============================] - 69s 547ms/step - loss: 0.2128 - accuracy: 0.9237 - val_loss: 0.2789 - val_accuracy: 0.9040\n",
            "Epoch 27/100\n",
            "125/125 [==============================] - 70s 559ms/step - loss: 0.1996 - accuracy: 0.9296 - val_loss: 0.3035 - val_accuracy: 0.9075\n",
            "Epoch 28/100\n",
            "125/125 [==============================] - 69s 553ms/step - loss: 0.1716 - accuracy: 0.9406 - val_loss: 0.2896 - val_accuracy: 0.9120\n",
            "Epoch 29/100\n",
            "125/125 [==============================] - 70s 559ms/step - loss: 0.1771 - accuracy: 0.9381 - val_loss: 0.3209 - val_accuracy: 0.8995\n",
            "Epoch 30/100\n",
            "125/125 [==============================] - 69s 553ms/step - loss: 0.1712 - accuracy: 0.9400 - val_loss: 0.3137 - val_accuracy: 0.9035\n",
            "Epoch 31/100\n",
            "125/125 [==============================] - 70s 560ms/step - loss: 0.1751 - accuracy: 0.9394 - val_loss: 0.3173 - val_accuracy: 0.9010\n",
            "Epoch 32/100\n",
            "125/125 [==============================] - 70s 561ms/step - loss: 0.1699 - accuracy: 0.9421 - val_loss: 0.3159 - val_accuracy: 0.9005\n",
            "Epoch 33/100\n",
            "125/125 [==============================] - 70s 564ms/step - loss: 0.1647 - accuracy: 0.9421 - val_loss: 0.3275 - val_accuracy: 0.9010\n",
            "Epoch 34/100\n",
            "125/125 [==============================] - 71s 567ms/step - loss: 0.1647 - accuracy: 0.9413 - val_loss: 0.3235 - val_accuracy: 0.9010\n",
            "Epoch 35/100\n",
            "125/125 [==============================] - 68s 546ms/step - loss: 0.1437 - accuracy: 0.9507 - val_loss: 0.3473 - val_accuracy: 0.8985\n",
            "Epoch 36/100\n",
            "125/125 [==============================] - 70s 559ms/step - loss: 0.1587 - accuracy: 0.9454 - val_loss: 0.3773 - val_accuracy: 0.8980\n",
            "Epoch 37/100\n",
            "125/125 [==============================] - 71s 565ms/step - loss: 0.1568 - accuracy: 0.9467 - val_loss: 0.3045 - val_accuracy: 0.9025\n",
            "Epoch 38/100\n",
            "125/125 [==============================] - 70s 560ms/step - loss: 0.1483 - accuracy: 0.9476 - val_loss: 0.3294 - val_accuracy: 0.8990\n",
            "Epoch 39/100\n",
            "125/125 [==============================] - 71s 567ms/step - loss: 0.1441 - accuracy: 0.9501 - val_loss: 0.3299 - val_accuracy: 0.9090\n",
            "Epoch 40/100\n",
            "125/125 [==============================] - 70s 560ms/step - loss: 0.1396 - accuracy: 0.9498 - val_loss: 0.3317 - val_accuracy: 0.9105\n",
            "Epoch 41/100\n",
            "125/125 [==============================] - 71s 566ms/step - loss: 0.1416 - accuracy: 0.9500 - val_loss: 0.3441 - val_accuracy: 0.9020\n",
            "Epoch 42/100\n",
            "125/125 [==============================] - 70s 562ms/step - loss: 0.1373 - accuracy: 0.9555 - val_loss: 0.3290 - val_accuracy: 0.9055\n",
            "Epoch 43/100\n",
            "125/125 [==============================] - 69s 550ms/step - loss: 0.1336 - accuracy: 0.9535 - val_loss: 0.3661 - val_accuracy: 0.9035\n",
            "Epoch 44/100\n",
            "125/125 [==============================] - 68s 544ms/step - loss: 0.1303 - accuracy: 0.9534 - val_loss: 0.3440 - val_accuracy: 0.9055\n",
            "Epoch 45/100\n",
            "125/125 [==============================] - 71s 569ms/step - loss: 0.1262 - accuracy: 0.9561 - val_loss: 0.3270 - val_accuracy: 0.9085\n",
            "Epoch 46/100\n",
            "125/125 [==============================] - 70s 560ms/step - loss: 0.1198 - accuracy: 0.9589 - val_loss: 0.3676 - val_accuracy: 0.9000\n",
            "Epoch 47/100\n",
            "125/125 [==============================] - 71s 569ms/step - loss: 0.1104 - accuracy: 0.9600 - val_loss: 0.3731 - val_accuracy: 0.9095\n",
            "Epoch 48/100\n",
            "125/125 [==============================] - 70s 560ms/step - loss: 0.1057 - accuracy: 0.9613 - val_loss: 0.3691 - val_accuracy: 0.9040\n",
            "Epoch 49/100\n",
            "125/125 [==============================] - 71s 566ms/step - loss: 0.1190 - accuracy: 0.9574 - val_loss: 0.3326 - val_accuracy: 0.9045\n",
            "Epoch 50/100\n",
            "125/125 [==============================] - 70s 561ms/step - loss: 0.1209 - accuracy: 0.9597 - val_loss: 0.3248 - val_accuracy: 0.9120\n",
            "Epoch 51/100\n",
            "125/125 [==============================] - 75s 601ms/step - loss: 0.1039 - accuracy: 0.9646 - val_loss: 0.3490 - val_accuracy: 0.9110\n",
            "Epoch 52/100\n",
            "125/125 [==============================] - 70s 561ms/step - loss: 0.1095 - accuracy: 0.9615 - val_loss: 0.3382 - val_accuracy: 0.9085\n",
            "Epoch 53/100\n",
            "125/125 [==============================] - 70s 560ms/step - loss: 0.0914 - accuracy: 0.9678 - val_loss: 0.3894 - val_accuracy: 0.9040\n",
            "Epoch 54/100\n",
            "125/125 [==============================] - 71s 567ms/step - loss: 0.0937 - accuracy: 0.9684 - val_loss: 0.3468 - val_accuracy: 0.9080\n",
            "Epoch 55/100\n",
            "125/125 [==============================] - 70s 560ms/step - loss: 0.0920 - accuracy: 0.9656 - val_loss: 0.3591 - val_accuracy: 0.9105\n",
            "Epoch 56/100\n",
            "125/125 [==============================] - 71s 569ms/step - loss: 0.0857 - accuracy: 0.9682 - val_loss: 0.3954 - val_accuracy: 0.9135\n",
            "Epoch 57/100\n",
            "125/125 [==============================] - 75s 602ms/step - loss: 0.1014 - accuracy: 0.9661 - val_loss: 0.3456 - val_accuracy: 0.9135\n",
            "Epoch 58/100\n",
            "125/125 [==============================] - 70s 556ms/step - loss: 0.0852 - accuracy: 0.9703 - val_loss: 0.3954 - val_accuracy: 0.9085\n",
            "Epoch 59/100\n",
            "125/125 [==============================] - 71s 564ms/step - loss: 0.0903 - accuracy: 0.9671 - val_loss: 0.3962 - val_accuracy: 0.9075\n",
            "Epoch 60/100\n",
            "125/125 [==============================] - 72s 572ms/step - loss: 0.0912 - accuracy: 0.9684 - val_loss: 0.3822 - val_accuracy: 0.9105\n",
            "Epoch 61/100\n",
            "125/125 [==============================] - 70s 561ms/step - loss: 0.0784 - accuracy: 0.9740 - val_loss: 0.3880 - val_accuracy: 0.9090\n",
            "Epoch 62/100\n",
            "125/125 [==============================] - 75s 605ms/step - loss: 0.0850 - accuracy: 0.9721 - val_loss: 0.3652 - val_accuracy: 0.9055\n",
            "Epoch 63/100\n",
            "125/125 [==============================] - 70s 557ms/step - loss: 0.0930 - accuracy: 0.9716 - val_loss: 0.4037 - val_accuracy: 0.9065\n",
            "Epoch 64/100\n",
            "125/125 [==============================] - 71s 565ms/step - loss: 0.0815 - accuracy: 0.9750 - val_loss: 0.3772 - val_accuracy: 0.9120\n",
            "Epoch 65/100\n",
            "125/125 [==============================] - 70s 561ms/step - loss: 0.0730 - accuracy: 0.9743 - val_loss: 0.3830 - val_accuracy: 0.9125\n",
            "Epoch 66/100\n",
            "125/125 [==============================] - 69s 552ms/step - loss: 0.0648 - accuracy: 0.9770 - val_loss: 0.3958 - val_accuracy: 0.9165\n",
            "Epoch 67/100\n",
            "125/125 [==============================] - 70s 560ms/step - loss: 0.0775 - accuracy: 0.9750 - val_loss: 0.3938 - val_accuracy: 0.9045\n",
            "Epoch 68/100\n",
            "125/125 [==============================] - 69s 552ms/step - loss: 0.0690 - accuracy: 0.9739 - val_loss: 0.4497 - val_accuracy: 0.9180\n",
            "Epoch 69/100\n",
            "125/125 [==============================] - 68s 547ms/step - loss: 0.0849 - accuracy: 0.9728 - val_loss: 0.3986 - val_accuracy: 0.9135\n",
            "Epoch 70/100\n",
            "125/125 [==============================] - 72s 571ms/step - loss: 0.0791 - accuracy: 0.9735 - val_loss: 0.3780 - val_accuracy: 0.9110\n",
            "Epoch 71/100\n",
            "125/125 [==============================] - 69s 554ms/step - loss: 0.0718 - accuracy: 0.9744 - val_loss: 0.4147 - val_accuracy: 0.9090\n",
            "Epoch 72/100\n",
            "125/125 [==============================] - 69s 552ms/step - loss: 0.0734 - accuracy: 0.9755 - val_loss: 0.4058 - val_accuracy: 0.9055\n",
            "Epoch 73/100\n",
            "125/125 [==============================] - 70s 563ms/step - loss: 0.0664 - accuracy: 0.9787 - val_loss: 0.4013 - val_accuracy: 0.9150\n",
            "Epoch 74/100\n",
            "125/125 [==============================] - 70s 558ms/step - loss: 0.0766 - accuracy: 0.9735 - val_loss: 0.4068 - val_accuracy: 0.9140\n",
            "Epoch 75/100\n",
            "125/125 [==============================] - 68s 546ms/step - loss: 0.0766 - accuracy: 0.9732 - val_loss: 0.3680 - val_accuracy: 0.9080\n",
            "Epoch 76/100\n",
            "125/125 [==============================] - 70s 559ms/step - loss: 0.0619 - accuracy: 0.9803 - val_loss: 0.4379 - val_accuracy: 0.9055\n",
            "Epoch 77/100\n",
            "125/125 [==============================] - 70s 562ms/step - loss: 0.0664 - accuracy: 0.9766 - val_loss: 0.4709 - val_accuracy: 0.9030\n",
            "Epoch 78/100\n",
            "125/125 [==============================] - 70s 562ms/step - loss: 0.0706 - accuracy: 0.9761 - val_loss: 0.4322 - val_accuracy: 0.9040\n",
            "Epoch 79/100\n",
            "125/125 [==============================] - 70s 562ms/step - loss: 0.0739 - accuracy: 0.9726 - val_loss: 0.4414 - val_accuracy: 0.9120\n",
            "Epoch 80/100\n",
            "125/125 [==============================] - 71s 565ms/step - loss: 0.0606 - accuracy: 0.9790 - val_loss: 0.4253 - val_accuracy: 0.9120\n",
            "Epoch 81/100\n",
            "125/125 [==============================] - 71s 566ms/step - loss: 0.0624 - accuracy: 0.9824 - val_loss: 0.3753 - val_accuracy: 0.9125\n",
            "Epoch 82/100\n",
            "125/125 [==============================] - 72s 577ms/step - loss: 0.0576 - accuracy: 0.9812 - val_loss: 0.4671 - val_accuracy: 0.9030\n",
            "Epoch 83/100\n",
            "125/125 [==============================] - 69s 550ms/step - loss: 0.0672 - accuracy: 0.9756 - val_loss: 0.4449 - val_accuracy: 0.9140\n",
            "Epoch 84/100\n",
            "125/125 [==============================] - 70s 562ms/step - loss: 0.0574 - accuracy: 0.9805 - val_loss: 0.4104 - val_accuracy: 0.9180\n",
            "Epoch 85/100\n",
            "125/125 [==============================] - 72s 575ms/step - loss: 0.0551 - accuracy: 0.9795 - val_loss: 0.6061 - val_accuracy: 0.8935\n",
            "Epoch 86/100\n",
            "125/125 [==============================] - 70s 563ms/step - loss: 0.0538 - accuracy: 0.9825 - val_loss: 0.4072 - val_accuracy: 0.9105\n",
            "Epoch 87/100\n",
            "125/125 [==============================] - 71s 563ms/step - loss: 0.0511 - accuracy: 0.9825 - val_loss: 0.4736 - val_accuracy: 0.9045\n",
            "Epoch 88/100\n",
            "125/125 [==============================] - 70s 564ms/step - loss: 0.0551 - accuracy: 0.9839 - val_loss: 0.4059 - val_accuracy: 0.9145\n",
            "Epoch 89/100\n",
            "125/125 [==============================] - 71s 565ms/step - loss: 0.0494 - accuracy: 0.9836 - val_loss: 0.4893 - val_accuracy: 0.9045\n",
            "Epoch 90/100\n",
            "125/125 [==============================] - 71s 565ms/step - loss: 0.0507 - accuracy: 0.9837 - val_loss: 0.4194 - val_accuracy: 0.9125\n",
            "Epoch 91/100\n",
            "125/125 [==============================] - 72s 572ms/step - loss: 0.0525 - accuracy: 0.9833 - val_loss: 0.4375 - val_accuracy: 0.9115\n",
            "Epoch 92/100\n",
            "125/125 [==============================] - 70s 560ms/step - loss: 0.0402 - accuracy: 0.9875 - val_loss: 0.4483 - val_accuracy: 0.9130\n",
            "Epoch 93/100\n",
            "125/125 [==============================] - 70s 562ms/step - loss: 0.0660 - accuracy: 0.9785 - val_loss: 0.4391 - val_accuracy: 0.9145\n",
            "Epoch 94/100\n",
            "125/125 [==============================] - 75s 604ms/step - loss: 0.0658 - accuracy: 0.9804 - val_loss: 0.4781 - val_accuracy: 0.9120\n",
            "Epoch 95/100\n",
            "125/125 [==============================] - 72s 570ms/step - loss: 0.0486 - accuracy: 0.9855 - val_loss: 0.4782 - val_accuracy: 0.9085\n",
            "Epoch 96/100\n",
            "125/125 [==============================] - 70s 562ms/step - loss: 0.0565 - accuracy: 0.9821 - val_loss: 0.4315 - val_accuracy: 0.9130\n",
            "Epoch 97/100\n",
            "125/125 [==============================] - 72s 572ms/step - loss: 0.0506 - accuracy: 0.9844 - val_loss: 0.4762 - val_accuracy: 0.9045\n",
            "Epoch 98/100\n",
            "125/125 [==============================] - 70s 563ms/step - loss: 0.0445 - accuracy: 0.9849 - val_loss: 0.4785 - val_accuracy: 0.8990\n",
            "Epoch 99/100\n",
            "125/125 [==============================] - 76s 607ms/step - loss: 0.0544 - accuracy: 0.9818 - val_loss: 0.4380 - val_accuracy: 0.9115\n",
            "Epoch 100/100\n",
            "125/125 [==============================] - 72s 571ms/step - loss: 0.0613 - accuracy: 0.9810 - val_loss: 0.4070 - val_accuracy: 0.9090\n",
            "1875/1875 [==============================] - 117s 63ms/step - loss: 0.4747 - accuracy: 0.9019\n",
            "Accuracy:\n",
            "> 90.193\n"
          ]
        },
        {
          "output_type": "display_data",
          "data": {
            "text/plain": [
              "<Figure size 1600x1000 with 2 Axes>"
            ],
            "image/png": "[encoded data removed]"
          },
          "metadata": {}
        }
      ]
    },
    {
      "cell_type": "markdown",
      "source": [
        "## **Finalization, saving of model, and testing on new images**"
      ],
      "metadata": {
        "id": "yZXsKzP0zoeG"
      }
    },
    {
      "cell_type": "code",
      "source": [
        "trainX, valX, testX, trainY, valY, testY = prep_pixels(train_X, val_X, test_X, train_Y, val_Y, test_Y)"
      ],
      "metadata": {
        "id": "h7U3q6k-kqKd"
      },
      "execution_count": 25,
      "outputs": []
    },
    {
      "cell_type": "code",
      "source": [
        "model3.save('/content/drive/MyDrive/Dataset/saved_fashion.h5')"
      ],
      "metadata": {
        "colab": {
          "base_uri": "https://localhost:8080/"
        },
        "id": "vwevFxhQnlR_",
        "outputId": "5d7367f8-4f2e-4c33-ac90-888b28f8b6b2"
      },
      "execution_count": 27,
      "outputs": [
        {
          "output_type": "stream",
          "name": "stderr",
          "text": [
            "/usr/local/lib/python3.10/dist-packages/keras/src/engine/training.py:3103: UserWarning: You are saving your model as an HDF5 file via `model.save()`. This file format is considered legacy. We recommend using instead the native Keras format, e.g. `model.save('my_model.keras')`.\n",
            "  saving_api.save_model(\n"
          ]
        }
      ]
    },
    {
      "cell_type": "code",
      "source": [
        "model = load_model('/content/drive/MyDrive/Dataset/saved_fashion.h5')\n",
        "# evaluate model on test dataset\n",
        "_, acc = model.evaluate(testX, testY, verbose=0)\n",
        "print('> %.3f' % (acc * 100.0))"
      ],
      "metadata": {
        "colab": {
          "base_uri": "https://localhost:8080/"
        },
        "id": "zfZUP7hCnrjy",
        "outputId": "7da7ab12-7443-4cc7-fc10-8bb5aa5a802e"
      },
      "execution_count": 32,
      "outputs": [
        {
          "output_type": "stream",
          "name": "stdout",
          "text": [
            "> 90.193\n"
          ]
        }
      ]
    },
    {
      "cell_type": "code",
      "source": [
        "# make a prediction for a new image.\n",
        "from tensorflow.keras.preprocessing.image import load_img\n",
        "from tensorflow.keras.preprocessing.image import img_to_array\n",
        "from keras.models import load_model\n",
        "\n",
        "# load and prepare the image\n",
        "def load_image(filename):\n",
        "  img = Image.open(filename).resize((224, 224))\n",
        "  plt.imshow(img)\n",
        "  plt.show()\n",
        "  img = load_img(filename, target_size=(28, 28))\n",
        "  img = img_to_array(img)\n",
        "  img = img[:,:,0]\n",
        "  img = img.reshape(1,28, 28, 1)\n",
        "  img = img.astype('float32')\n",
        "  img = img / 255.0\n",
        "  return img\n",
        "\n",
        "def run_example(filename):\n",
        "  img = load_image(filename)\n",
        "  model = load_model('/content/drive/MyDrive/Dataset/saved_fashion.h5')\n",
        "  result = np.argmax(model.predict(img), axis=1)\n",
        "  if result == 0:\n",
        "    print('Tshirt')\n",
        "  elif result == 1:\n",
        "    print('Top')\n",
        "  elif result == 2:\n",
        "    print('Pullover')\n",
        "  elif result == 3:\n",
        "    print('Dress')\n",
        "  elif result == 4:\n",
        "    print('Coat')\n",
        "  elif result == 5:\n",
        "    print('Sandal')\n",
        "  elif result == 6:\n",
        "    print('Shirt')\n",
        "  elif result == 7:\n",
        "    print('Snicker')\n",
        "  elif result == 8:\n",
        "    print('Bag')\n",
        "  else:\n",
        "    print('Ankle Boot')"
      ],
      "metadata": {
        "id": "D2jSe9Rpp_oM"
      },
      "execution_count": 33,
      "outputs": []
    },
    {
      "cell_type": "code",
      "source": [
        "run_example('/content/drive/MyDrive/Colab Notebooks/Shirt.jpg')"
      ],
      "metadata": {
        "colab": {
          "base_uri": "https://localhost:8080/",
          "height": 469
        },
        "id": "wqPrkI6KqGIg",
        "outputId": "4559d790-68e5-4e48-866d-23bcf744f436"
      },
      "execution_count": 40,
      "outputs": [
        {
          "output_type": "display_data",
          "data": {
            "text/plain": [
              "<Figure size 640x480 with 1 Axes>"
            ],
            "image/png": "[encoded data removed]"
          },
          "metadata": {}
        },
        {
          "output_type": "stream",
          "name": "stdout",
          "text": [
            "1/1 [==============================] - 0s 336ms/step\n",
            "Pullover\n"
          ]
        }
      ]
    }
  ]
}